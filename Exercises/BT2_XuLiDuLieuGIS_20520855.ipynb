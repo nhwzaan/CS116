{
  "nbformat": 4,
  "nbformat_minor": 0,
  "metadata": {
    "colab": {
      "provenance": [],
      "collapsed_sections": []
    },
    "kernelspec": {
      "name": "python3",
      "display_name": "Python 3"
    },
    "language_info": {
      "name": "python"
    }
  },
  "cells": [
    {
      "cell_type": "markdown",
      "source": [
        "# Thông tin sinh viên:\n",
        "- Họ và tên: Nguyễn Thị Như Vân\n",
        "- MSSV: 20520855"
      ],
      "metadata": {
        "id": "j0dkJOe5CnLh"
      }
    },
    {
      "cell_type": "code",
      "execution_count": 1,
      "metadata": {
        "colab": {
          "base_uri": "https://localhost:8080/"
        },
        "id": "lTwAirRHCeiD",
        "outputId": "90f47a57-2811-4950-8c17-fb832e48e9aa"
      },
      "outputs": [
        {
          "output_type": "stream",
          "name": "stdout",
          "text": [
            "Looking in indexes: https://pypi.org/simple, https://us-python.pkg.dev/colab-wheels/public/simple/\n",
            "Collecting geopandas\n",
            "  Downloading geopandas-0.10.2-py2.py3-none-any.whl (1.0 MB)\n",
            "\u001b[K     |████████████████████████████████| 1.0 MB 5.1 MB/s \n",
            "\u001b[?25hRequirement already satisfied: pandas>=0.25.0 in /usr/local/lib/python3.7/dist-packages (from geopandas) (1.3.5)\n",
            "Collecting fiona>=1.8\n",
            "  Downloading Fiona-1.8.21-cp37-cp37m-manylinux2014_x86_64.whl (16.7 MB)\n",
            "\u001b[K     |████████████████████████████████| 16.7 MB 11.2 MB/s \n",
            "\u001b[?25hCollecting pyproj>=2.2.0\n",
            "  Downloading pyproj-3.2.1-cp37-cp37m-manylinux2010_x86_64.whl (6.3 MB)\n",
            "\u001b[K     |████████████████████████████████| 6.3 MB 37.1 MB/s \n",
            "\u001b[?25hRequirement already satisfied: shapely>=1.6 in /usr/local/lib/python3.7/dist-packages (from geopandas) (1.8.4)\n",
            "Collecting munch\n",
            "  Downloading munch-2.5.0-py2.py3-none-any.whl (10 kB)\n",
            "Requirement already satisfied: six>=1.7 in /usr/local/lib/python3.7/dist-packages (from fiona>=1.8->geopandas) (1.15.0)\n",
            "Collecting cligj>=0.5\n",
            "  Downloading cligj-0.7.2-py3-none-any.whl (7.1 kB)\n",
            "Requirement already satisfied: attrs>=17 in /usr/local/lib/python3.7/dist-packages (from fiona>=1.8->geopandas) (22.1.0)\n",
            "Requirement already satisfied: click>=4.0 in /usr/local/lib/python3.7/dist-packages (from fiona>=1.8->geopandas) (7.1.2)\n",
            "Requirement already satisfied: setuptools in /usr/local/lib/python3.7/dist-packages (from fiona>=1.8->geopandas) (57.4.0)\n",
            "Collecting click-plugins>=1.0\n",
            "  Downloading click_plugins-1.1.1-py2.py3-none-any.whl (7.5 kB)\n",
            "Requirement already satisfied: certifi in /usr/local/lib/python3.7/dist-packages (from fiona>=1.8->geopandas) (2022.6.15)\n",
            "Requirement already satisfied: pytz>=2017.3 in /usr/local/lib/python3.7/dist-packages (from pandas>=0.25.0->geopandas) (2022.2.1)\n",
            "Requirement already satisfied: numpy>=1.17.3 in /usr/local/lib/python3.7/dist-packages (from pandas>=0.25.0->geopandas) (1.21.6)\n",
            "Requirement already satisfied: python-dateutil>=2.7.3 in /usr/local/lib/python3.7/dist-packages (from pandas>=0.25.0->geopandas) (2.8.2)\n",
            "Installing collected packages: munch, cligj, click-plugins, pyproj, fiona, geopandas\n",
            "Successfully installed click-plugins-1.1.1 cligj-0.7.2 fiona-1.8.21 geopandas-0.10.2 munch-2.5.0 pyproj-3.2.1\n"
          ]
        }
      ],
      "source": [
        "pip install geopandas"
      ]
    },
    {
      "cell_type": "code",
      "source": [
        "import geopandas as gpd\n",
        "import pandas as pd"
      ],
      "metadata": {
        "id": "YOz4LVm9C4-0"
      },
      "execution_count": 2,
      "outputs": []
    },
    {
      "cell_type": "code",
      "source": [
        "!git clone https://github.com/CityScope/CSL_HCMC.git"
      ],
      "metadata": {
        "colab": {
          "base_uri": "https://localhost:8080/"
        },
        "id": "YT7dDjAtC7Yc",
        "outputId": "96a6f5d0-c76f-41fd-8a69-2995d5bbbcc7"
      },
      "execution_count": 3,
      "outputs": [
        {
          "output_type": "stream",
          "name": "stdout",
          "text": [
            "Cloning into 'CSL_HCMC'...\n",
            "remote: Enumerating objects: 1957, done.\u001b[K\n",
            "remote: Counting objects: 100% (46/46), done.\u001b[K\n",
            "remote: Compressing objects: 100% (45/45), done.\u001b[K\n",
            "remote: Total 1957 (delta 7), reused 1 (delta 1), pack-reused 1911\u001b[K\n",
            "Receiving objects: 100% (1957/1957), 175.89 MiB | 25.76 MiB/s, done.\n",
            "Resolving deltas: 100% (1063/1063), done.\n",
            "Checking out files: 100% (542/542), done.\n"
          ]
        }
      ]
    },
    {
      "cell_type": "code",
      "source": [
        "data = gpd.read_file('CSL_HCMC/Data/GIS/Population/population_HCMC/population_shapefile/Population_Ward_Level.shp')"
      ],
      "metadata": {
        "id": "iVnUabHxDETX"
      },
      "execution_count": 4,
      "outputs": []
    },
    {
      "cell_type": "code",
      "source": [
        "data.info()"
      ],
      "metadata": {
        "colab": {
          "base_uri": "https://localhost:8080/"
        },
        "id": "8f_Hf10aDGDp",
        "outputId": "9dc84ecc-2a78-4cfd-afd3-b104af95f646"
      },
      "execution_count": 5,
      "outputs": [
        {
          "output_type": "stream",
          "name": "stdout",
          "text": [
            "<class 'geopandas.geodataframe.GeoDataFrame'>\n",
            "RangeIndex: 322 entries, 0 to 321\n",
            "Data columns (total 12 columns):\n",
            " #   Column      Non-Null Count  Dtype   \n",
            "---  ------      --------------  -----   \n",
            " 0   Com_Name    322 non-null    object  \n",
            " 1   Dist_Name   322 non-null    object  \n",
            " 2   Com_ID      322 non-null    object  \n",
            " 3   Dist_ID     322 non-null    object  \n",
            " 4   Level       322 non-null    object  \n",
            " 5   Pop_2009    322 non-null    float64 \n",
            " 6   Pop_2019    322 non-null    float64 \n",
            " 7   Den_2009    322 non-null    float64 \n",
            " 8   Den_2019    322 non-null    float64 \n",
            " 9   Shape_Leng  322 non-null    float64 \n",
            " 10  Shape_Area  322 non-null    float64 \n",
            " 11  geometry    322 non-null    geometry\n",
            "dtypes: float64(6), geometry(1), object(5)\n",
            "memory usage: 30.3+ KB\n"
          ]
        }
      ]
    },
    {
      "cell_type": "code",
      "source": [
        "#Phường nào có diện tích lớn nhất\n",
        "idx = data['Shape_Area'].idxmax\n",
        "print('Phường nào có diện tích lớn nhất: ' + data['Com_Name'][idx] + ', ' + data['Dist_Name'][idx])"
      ],
      "metadata": {
        "colab": {
          "base_uri": "https://localhost:8080/"
        },
        "id": "WIzzhGpAEQk6",
        "outputId": "0b2c2fda-3bb6-4618-d3a9-bb153e29b2b4"
      },
      "execution_count": 14,
      "outputs": [
        {
          "output_type": "stream",
          "name": "stdout",
          "text": [
            "Phường nào có diện tích lớn nhất: Ly Nhon, Can Gio\n"
          ]
        }
      ]
    },
    {
      "cell_type": "code",
      "source": [
        "#Phường nào có diện tích nhỏ nhất\n",
        "idx = data['Shape_Area'].idxmin\n",
        "print('Phường nào có diện tích nhỏ nhất: ' + data['Com_Name'][idx] + ', ' + data['Dist_Name'][idx])"
      ],
      "metadata": {
        "colab": {
          "base_uri": "https://localhost:8080/"
        },
        "id": "gM-bJZddEn5E",
        "outputId": "a094fbd5-9c39-41ba-a64e-ccb48d500be5"
      },
      "execution_count": 15,
      "outputs": [
        {
          "output_type": "stream",
          "name": "stdout",
          "text": [
            "Phường nào có diện tích nhỏ nhất: Ward 3, District 10\n"
          ]
        }
      ]
    },
    {
      "cell_type": "code",
      "source": [
        "#Phường nào có dân số 2019 (Pop_2019) cao nhất\n",
        "idx = data['Pop_2019'].idxmax\n",
        "print('Phường nào có dân số 2019 (Pop_2019) cao nhất: ' + data['Com_Name'][idx] + ', ' + data['Dist_Name'][idx])"
      ],
      "metadata": {
        "colab": {
          "base_uri": "https://localhost:8080/"
        },
        "id": "GpSn-4qVEyM7",
        "outputId": "85b92cdb-76f1-4b67-b3b7-60a396a50c33"
      },
      "execution_count": 16,
      "outputs": [
        {
          "output_type": "stream",
          "name": "stdout",
          "text": [
            "Phường nào có dân số 2019 (Pop_2019) cao nhất: Vinh Loc A, Binh Chanh\n"
          ]
        }
      ]
    },
    {
      "cell_type": "code",
      "source": [
        "#Phường nào có dân số 2019 (Pop_2019) thấp nhất\n",
        "idx = data['Pop_2019'].idxmin\n",
        "print('Phường nào có dân số 2019 (Pop_2019) thấp nhất: ' + data['Com_Name'][idx] + ', ' + data['Dist_Name'][idx])"
      ],
      "metadata": {
        "colab": {
          "base_uri": "https://localhost:8080/"
        },
        "id": "8K9c_ummE_X2",
        "outputId": "abbeb397-219f-4bab-8cd7-b95e2806bb91"
      },
      "execution_count": 17,
      "outputs": [
        {
          "output_type": "stream",
          "name": "stdout",
          "text": [
            "Phường nào có dân số 2019 (Pop_2019) thấp nhất: An Khanh, District 2\n"
          ]
        }
      ]
    },
    {
      "cell_type": "code",
      "source": [
        "#Phường nào có tốc độ tăng trưởng dân số nhanh nhất (dựa trên Pop_2009 và Pop_2019)\n",
        "idx = (data['Pop_2019'] / data['Pop_2009']).idxmax\n",
        "print('Phường nào có tốc độ tăng trưởng dân số nhanh nhất (dựa trên Pop_2009 và Pop_2019): ' + data['Com_Name'][idx] + ', ' + data['Dist_Name'][idx])"
      ],
      "metadata": {
        "colab": {
          "base_uri": "https://localhost:8080/"
        },
        "id": "1W2NtkhIFK5r",
        "outputId": "bcf1160a-6a4c-4a94-9966-d3933a427a52"
      },
      "execution_count": 20,
      "outputs": [
        {
          "output_type": "stream",
          "name": "stdout",
          "text": [
            "Phường nào có tốc độ tăng trưởng dân số nhanh nhất (dựa trên Pop_2009 và Pop_2019): Phu Huu, District 9 \n"
          ]
        }
      ]
    },
    {
      "cell_type": "code",
      "source": [
        "#Phường nào có tốc độ tăng trưởng dân số thấp nhất\n",
        "idx = (abs(data['Pop_2019'] - data['Pop_2009']) / data['Pop_2009']).idxmin\n",
        "print('Phường nào có tốc độ tăng trưởng dân số thấp nhất: ' + data['Com_Name'][idx] + ', ' + data['Dist_Name'][idx])"
      ],
      "metadata": {
        "colab": {
          "base_uri": "https://localhost:8080/"
        },
        "id": "A-jZCLZfFlzA",
        "outputId": "68d844b3-5e0c-4d1c-811c-c378cd7e9821"
      },
      "execution_count": 21,
      "outputs": [
        {
          "output_type": "stream",
          "name": "stdout",
          "text": [
            "Phường nào có tốc độ tăng trưởng dân số thấp nhất: Ward 11, Binh Thanh\n"
          ]
        }
      ]
    },
    {
      "cell_type": "code",
      "source": [
        "#Phường nào có tốc độ tăng trưởng dân số cao nhất\n",
        "idx = (abs(data['Pop_2019'] - data['Pop_2009']) / data['Pop_2009']).idxmax\n",
        "print('Phường nào có tốc độ tăng trưởng dân số cao nhất: '+ data['Com_Name'][idx] + ', ' + data['Dist_Name'][idx] )"
      ],
      "metadata": {
        "colab": {
          "base_uri": "https://localhost:8080/"
        },
        "id": "NHEo67csFvOU",
        "outputId": "1a3db8cb-9a69-486a-9fa7-f17c63fd89e1"
      },
      "execution_count": 22,
      "outputs": [
        {
          "output_type": "stream",
          "name": "stdout",
          "text": [
            "Phường nào có tốc độ tăng trưởng dân số cao nhất: Phu Huu, District 9\n"
          ]
        }
      ]
    },
    {
      "cell_type": "code",
      "source": [
        "#Phường nào có mật độ dân số cao nhất (2019)\n",
        "idx = (data['Pop_2019'] / data['Shape_Area']).idxmax\n",
        "print('Phường nào có mật độ dân số cao nhất (2019): ' + data['Com_Name'][idx] + ', ' + data['Dist_Name'][idx])"
      ],
      "metadata": {
        "colab": {
          "base_uri": "https://localhost:8080/"
        },
        "id": "cf29WZErF30P",
        "outputId": "2b010972-2ed0-4ac7-ce0d-accbbe52a76a"
      },
      "execution_count": 23,
      "outputs": [
        {
          "output_type": "stream",
          "name": "stdout",
          "text": [
            "Phường nào có mật độ dân số cao nhất (2019): Ward 8, District 4\n"
          ]
        }
      ]
    },
    {
      "cell_type": "code",
      "source": [
        "#Phường nào có mật độ dân số thấp nhất (2019)\n",
        "idx = (data['Pop_2019'] / data['Shape_Area']).idxmin\n",
        "print('Phường nào có mật độ dân số thấp nhất (2019): ' + data['Com_Name'][idx] + ', ' + data['Dist_Name'][idx] )"
      ],
      "metadata": {
        "colab": {
          "base_uri": "https://localhost:8080/"
        },
        "id": "3CM3w74LGFxz",
        "outputId": "7f4feb76-82ae-4dca-960a-c10d0bbad24e"
      },
      "execution_count": 27,
      "outputs": [
        {
          "output_type": "stream",
          "name": "stdout",
          "text": [
            "Phường nào có mật độ dân số thấp nhất (2019): Ly Nhon, Can Gio\n"
          ]
        }
      ]
    }
  ]
}