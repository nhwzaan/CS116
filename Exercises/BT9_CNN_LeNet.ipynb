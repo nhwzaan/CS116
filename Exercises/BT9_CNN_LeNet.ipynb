{
  "nbformat": 4,
  "nbformat_minor": 0,
  "metadata": {
    "colab": {
      "provenance": []
    },
    "kernelspec": {
      "name": "python3",
      "display_name": "Python 3"
    },
    "accelerator": "GPU"
  },
  "cells": [
    {
      "cell_type": "markdown",
      "source": [
        "# Thông tin sinh viên\n",
        "- Họ và tên: Nguyễn Thị Như Vân"
      ],
      "metadata": {
        "id": "jFLGw7BCdxlL"
      }
    },
    {
      "cell_type": "markdown",
      "source": [
        "# LeNet CNN "
      ],
      "metadata": {
        "id": "0Tzi-xUVZhl2"
      }
    },
    {
      "cell_type": "code",
      "metadata": {
        "id": "mQ4AkwUDHajp"
      },
      "source": [
        "from keras.layers import Input, Dense, Conv2D, MaxPooling2D, Flatten\n",
        "from keras.models import load_model, Model\n",
        "import tensorflow as tf\n",
        "import keras\n",
        "\n",
        "class LeNetCNN:\n",
        "  # constructor\n",
        "  def __init__(self):\n",
        "    self.model = None\n",
        "\n",
        "  # Define structure of the CNN\n",
        "  def build(self, input_dim):\n",
        "    input = Input(shape = input_dim) # X dau vao cua minh\n",
        "    C1 = Conv2D(6, (3, 3), padding='same', activation='relu')(input)\n",
        "    S2 = MaxPooling2D(pool_size=(2, 2), padding=\"same\")(C1)\n",
        "    C3 = Conv2D(16, (3, 3), padding='same', activation='relu')(S2)\n",
        "    S4 = MaxPooling2D(pool_size=(2, 2), padding=\"same\")(C3)\n",
        "\n",
        "    flat = Flatten()(S4)\n",
        "    # These like ANN\n",
        "    F5 = Dense(120, activation='relu', use_bias=True)(flat)\n",
        "    F6 = Dense(84, activation='relu', use_bias=True)(F5)\n",
        "    output = Dense(10, activation='softmax', use_bias=True)(F6) # y~ output\n",
        "    self.model = Model(input, output)\n",
        "  \n",
        "  # Train the model\n",
        "  def train(self, x_train, y_train, x_val, y_val): # x_train chinh la X, y_train chinh la ground-truth\n",
        "    sgd = keras.optimizers.SGD(learning_rate=0.01)\n",
        "    adam = keras.optimizers.Adam(learning_rate=0.01)\n",
        "    self.model.compile(optimizer=sgd, loss = 'categorical_crossentropy', metrics=['accuracy'])\n",
        "    self.model.fit(x_train, y_train, validation_data = (x_val, y_val), epochs = 50, batch_size = 128)\n",
        "  \n",
        "\n",
        "  # Load model from file\n",
        "  def load(self, model_file):\n",
        "    self.model = load_model(model_file)\n",
        "  \n",
        "  # save the trained model\n",
        "  def save(self, model_file):\n",
        "    self.model.save(model_file)\n",
        "  \n",
        "  # Show the architecture of the model\n",
        "  def summary(self):\n",
        "    self.model.summary()\n",
        "\n",
        "  # Test the model with a given input\n",
        "  def predict(self, x_test):\n",
        "    return self.model.predict(x_test)\n",
        "\n"
      ],
      "execution_count": 86,
      "outputs": []
    },
    {
      "cell_type": "markdown",
      "source": [
        "# LeNet CNN removed all activations"
      ],
      "metadata": {
        "id": "8EE9eVB3ZlJV"
      }
    },
    {
      "cell_type": "code",
      "metadata": {
        "id": "U8lfBN3Y4U3G"
      },
      "source": [
        "from keras.layers import Input, Dense, Conv2D, MaxPooling2D, Flatten, Add, AveragePooling2D\n",
        "from keras.models import load_model, Model\n",
        "#from keras.objectives import categorical_crossentropy\n",
        "\n",
        "class LeNet_1st:\n",
        "  # constructor\n",
        "  def __init__(self):\n",
        "    self.model = None\n",
        "\n",
        "  # Define structure of the CNN\n",
        "  def build(self, input_dim):\n",
        "    input = Input(shape = input_dim) # X dau vao cua minh\n",
        "    \n",
        "    C1 = Conv2D(8, (3, 3), padding='same')(input)\n",
        "    S2 = MaxPooling2D(pool_size=(2, 2), padding=\"same\")(C1)\n",
        "\n",
        "    C3 = Conv2D(8, (3, 3), padding='same')(S2)\n",
        "    C4 = Conv2D(8, (3, 3), padding='same')(C3)\n",
        "    C5 = Add()([C4, S2])\n",
        "\n",
        "    C6 = Conv2D(16, (3, 3), strides = (2,2), padding='same')(C5)\n",
        "    C7 = Conv2D(16, (3, 3), padding='same')(C6)\n",
        "    C8 = Conv2D(16, (3, 3), padding='same')(C7)\n",
        "    C9 = Add()([C8, C6])\n",
        "\n",
        "    P10 = AveragePooling2D()(C9)\n",
        "    flat = Flatten()(P10)\n",
        "    F0 = Dense(400, use_bias=True)(flat)\n",
        "    output = Dense(10, activation='softmax', use_bias=True)(F0)\n",
        "\n",
        "    self.model = Model(input, output)\n",
        "    self.model.compile(optimizer=\"adam\", loss = 'categorical_crossentropy', metrics=['accuracy'])\n",
        "  \n",
        "  # Train the model\n",
        "  def train(self, x_train, y_train, x_val, y_val): # x_train chinh la X, y_train chinh la ground-truthewedsdAQ  a QA\n",
        "    self.model.fit(x_train, y_train, validation_data = (x_val, y_val), epochs = 50, batch_size = 128)\n",
        "  \n",
        "  # Load model from file\n",
        "  def load(self, model_file):\n",
        "    self.model = load_model(model_file)\n",
        "  \n",
        "  # save the trained model\n",
        "  def save(self, model_file):\n",
        "    self.model.save(model_file)\n",
        "  \n",
        "  # Show the architecture of the model\n",
        "  def summary(self):\n",
        "    self.model.summary()\n",
        "\n",
        "  # Test the model with a given input\n",
        "  def predict(self, x_test):\n",
        "    return self.model.predict(x_test)"
      ],
      "execution_count": 44,
      "outputs": []
    },
    {
      "cell_type": "markdown",
      "source": [
        "# LeNet CNN removed Convolutional Layer"
      ],
      "metadata": {
        "id": "qrsmy__6o4AE"
      }
    },
    {
      "cell_type": "code",
      "source": [
        "from keras.layers import Input, Dense, Conv2D, MaxPooling2D, Flatten\n",
        "from keras.models import load_model, Model\n",
        "import tensorflow as tf\n",
        "import keras\n",
        "\n",
        "class LeNet_2nd:\n",
        "  # constructor\n",
        "  def __init__(self):\n",
        "    self.model = None\n",
        "\n",
        "  # Define structure of the CNN\n",
        "  def build(self, input_dim):\n",
        "    input = Input(shape = input_dim) # X dau vao cua minh\n",
        "    C1 = Conv2D(6, (3, 3), padding='same', activation='relu')(input)\n",
        "    S2 = MaxPooling2D(pool_size=(2, 2), padding=\"same\")(C1)\n",
        "    C3 = Conv2D(16, (3, 3), padding='same', activation='relu')(S2)\n",
        "    S4 = MaxPooling2D(pool_size=(2, 2), padding=\"same\")(C3)\n",
        "\n",
        "    flat = Flatten()(S4)\n",
        "    # These like ANN\n",
        "    F5 = Dense(120, activation='relu', use_bias=True)(flat)\n",
        "    F6 = Dense(84, activation='relu', use_bias=True)(F5)\n",
        "    output = Dense(10, activation='softmax', use_bias=True)(F6) # y~ output\n",
        "    self.model = Model(input, output)\n",
        "  \n",
        "  # Train the model\n",
        "  def train(self, x_train, y_train, x_val, y_val): # x_train chinh la X, y_train chinh la ground-truth\n",
        "    sgd = keras.optimizers.SGD(learning_rate=0.01)\n",
        "    adam = keras.optimizers.Adam(learning_rate=0.01)\n",
        "    self.model.compile(optimizer=sgd, loss = 'categorical_crossentropy', metrics=['accuracy'])\n",
        "    self.model.fit(x_train, y_train, validation_data = (x_val, y_val), epochs = 50, batch_size = 128)\n",
        "  \n",
        "\n",
        "  # Load model from file\n",
        "  def load(self, model_file):\n",
        "    self.model = load_model(model_file)\n",
        "  \n",
        "  # save the trained model\n",
        "  def save(self, model_file):\n",
        "    self.model.save(model_file)\n",
        "  \n",
        "  # Show the architecture of the model\n",
        "  def summary(self):\n",
        "    self.model.summary()\n",
        "\n",
        "  # Test the model with a given input\n",
        "  def predict(self, x_test):\n",
        "    return self.model.predict(x_test)"
      ],
      "metadata": {
        "id": "FoSHWVgIo_C0"
      },
      "execution_count": null,
      "outputs": []
    },
    {
      "cell_type": "code",
      "metadata": {
        "id": "QOwcpLbYHno7",
        "colab": {
          "base_uri": "https://localhost:8080/"
        },
        "outputId": "4ac6eaa7-ce40-4c00-eb12-da168e9f9dd8"
      },
      "source": [
        "from keras.datasets import mnist\n",
        "\n",
        "(x_train, y_train), (x_test, y_test) = mnist.load_data()\n",
        "\n",
        "print(x_train.shape)\n",
        "print(y_train.shape)\n",
        "print(x_test.shape)\n",
        "print(y_test.shape)\n"
      ],
      "execution_count": 91,
      "outputs": [
        {
          "output_type": "stream",
          "name": "stdout",
          "text": [
            "(60000, 28, 28)\n",
            "(60000,)\n",
            "(10000, 28, 28)\n",
            "(10000,)\n"
          ]
        }
      ]
    },
    {
      "cell_type": "code",
      "source": [
        "from collections import Counter"
      ],
      "metadata": {
        "id": "KdvXyUKQqzSA"
      },
      "execution_count": 92,
      "outputs": []
    },
    {
      "cell_type": "code",
      "source": [
        "counter = Counter(y_train).most_common(3)"
      ],
      "metadata": {
        "id": "xy9p35J9q5zj"
      },
      "execution_count": 93,
      "outputs": []
    },
    {
      "cell_type": "code",
      "source": [
        "counter"
      ],
      "metadata": {
        "colab": {
          "base_uri": "https://localhost:8080/"
        },
        "id": "PttSwCSOs8Fr",
        "outputId": "4af713bd-bda6-405f-dddd-05cbdd90df8b"
      },
      "execution_count": 94,
      "outputs": [
        {
          "output_type": "execute_result",
          "data": {
            "text/plain": [
              "[(1, 6742), (7, 6265), (3, 6131)]"
            ]
          },
          "metadata": {},
          "execution_count": 94
        }
      ]
    },
    {
      "cell_type": "code",
      "metadata": {
        "id": "hjbM2ZrWON53"
      },
      "source": [
        "import numpy as np\n",
        "\n",
        "def onehot(y):\n",
        "  oh = np.zeros((y.shape[0], 10))\n",
        "  for i in range(y.shape[0]):\n",
        "    oh[i, int(y[i])]=1\n",
        "  return oh"
      ],
      "execution_count": 95,
      "outputs": []
    },
    {
      "cell_type": "code",
      "metadata": {
        "id": "XSRZ6AMNWWQg"
      },
      "source": [
        "import numpy as np\n",
        "def norm_zero_one(x_train):\n",
        "  min_val = np.min(x_train)\n",
        "  max_val = np.max(x_train)\n",
        "  x_train_norm = (x_train-min_val)/(max_val-min_val)\n",
        "  return x_train_norm\n",
        "\n",
        "def norm_normal_dist(x_train):\n",
        "  mean_val = np.mean(x_train)\n",
        "  std_val = np.std(x_train)\n",
        "  x_train_norm = (x_train-mean_val)/std_val\n",
        "  return x_train_norm"
      ],
      "execution_count": 96,
      "outputs": []
    },
    {
      "cell_type": "code",
      "metadata": {
        "id": "-HXJByzMMyWq"
      },
      "source": [
        "from sklearn import preprocessing\n",
        "import numpy as np\n",
        "\n",
        "#enc = preprocessing.OneHotEncoder()\n",
        "\n",
        "#enc.fit(y_train)\n",
        "\n",
        "#y_train_oh = enc.transform(y_train).toarray()\n",
        "#y_train_oh.shape\n",
        "y_train_oh = onehot(y_train)\n",
        "y_train_oh.shape\n",
        "\n",
        "y_test_oh = onehot(y_test)\n",
        "y_test_oh.shape\n",
        "\n",
        "x_train_norm = x_train / 255.0\n",
        "x_test_norm = x_test / 255.0\n",
        "\n",
        "#x_train_norm = x_train_norm[:,:,:, np.newaxis] # Optional: Convert 60000x28x28 -> 60000x28x28x1\n",
        "#x_test_norm = x_test_norm[:,:,:, np.newaxis] # Optional: Convert 60000x28x28 -> 60000x28x28x1"
      ],
      "execution_count": 97,
      "outputs": []
    },
    {
      "cell_type": "code",
      "metadata": {
        "colab": {
          "base_uri": "https://localhost:8080/"
        },
        "id": "vjd-0_h89KFL",
        "outputId": "82ae0df8-644a-4ef7-e246-217c67ba1618"
      },
      "source": [
        "x_train_norm.shape"
      ],
      "execution_count": 98,
      "outputs": [
        {
          "output_type": "execute_result",
          "data": {
            "text/plain": [
              "(60000, 28, 28)"
            ]
          },
          "metadata": {},
          "execution_count": 98
        }
      ]
    },
    {
      "cell_type": "markdown",
      "source": [
        "# Training and evaluating on original LeNet"
      ],
      "metadata": {
        "id": "VMZrDucddnZs"
      }
    },
    {
      "cell_type": "code",
      "source": [
        "from keras.models import Sequential\n",
        "from keras.layers import Dense, Conv2D, Dropout, Flatten, MaxPooling2D\n",
        "import tensorflow as tf"
      ],
      "metadata": {
        "id": "UGwFduzDcweb"
      },
      "execution_count": 99,
      "outputs": []
    },
    {
      "cell_type": "code",
      "source": [
        "model = Sequential()\n",
        "model.add(Conv2D(32, kernel_size=(5,5), input_shape=(28,28,1)))\n",
        "model.add(MaxPooling2D(pool_size=(2, 2)))\n",
        "model.add(Conv2D(64, kernel_size=(5,5), input_shape=(28,28,1)))\n",
        "model.add(MaxPooling2D(pool_size=(2, 2)))\n",
        "model.add(Flatten()) # Flattening the 2D arrays for fully connected layers\n",
        "model.add(Dense(1024, activation=tf.nn.relu))\n",
        "model.add(Dropout(0.2))\n",
        "model.add(Dense(10,activation=tf.nn.softmax))"
      ],
      "metadata": {
        "id": "7C2cfzN8dIJI"
      },
      "execution_count": 100,
      "outputs": []
    },
    {
      "cell_type": "code",
      "source": [
        "model.compile(optimizer='adam', loss='sparse_categorical_crossentropy', metrics=['accuracy'])"
      ],
      "metadata": {
        "id": "v5k3KKbSmC8B"
      },
      "execution_count": 102,
      "outputs": []
    },
    {
      "cell_type": "code",
      "source": [
        "model.summary()"
      ],
      "metadata": {
        "colab": {
          "base_uri": "https://localhost:8080/"
        },
        "id": "wzI-V5OnmFtR",
        "outputId": "5d832d40-5ebf-4551-d00f-87799ae3a8ff"
      },
      "execution_count": 103,
      "outputs": [
        {
          "output_type": "stream",
          "name": "stdout",
          "text": [
            "Model: \"sequential_2\"\n",
            "_________________________________________________________________\n",
            " Layer (type)                Output Shape              Param #   \n",
            "=================================================================\n",
            " conv2d_30 (Conv2D)          (None, 24, 24, 32)        832       \n",
            "                                                                 \n",
            " max_pooling2d_15 (MaxPoolin  (None, 12, 12, 32)       0         \n",
            " g2D)                                                            \n",
            "                                                                 \n",
            " conv2d_31 (Conv2D)          (None, 8, 8, 64)          51264     \n",
            "                                                                 \n",
            " max_pooling2d_16 (MaxPoolin  (None, 4, 4, 64)         0         \n",
            " g2D)                                                            \n",
            "                                                                 \n",
            " flatten_9 (Flatten)         (None, 1024)              0         \n",
            "                                                                 \n",
            " dense_22 (Dense)            (None, 1024)              1049600   \n",
            "                                                                 \n",
            " dropout_2 (Dropout)         (None, 1024)              0         \n",
            "                                                                 \n",
            " dense_23 (Dense)            (None, 10)                10250     \n",
            "                                                                 \n",
            "=================================================================\n",
            "Total params: 1,111,946\n",
            "Trainable params: 1,111,946\n",
            "Non-trainable params: 0\n",
            "_________________________________________________________________\n"
          ]
        }
      ]
    },
    {
      "cell_type": "code",
      "source": [
        "history = model.fit(x=x_train,y=y_train, epochs=10 , batch_size = 128)"
      ],
      "metadata": {
        "colab": {
          "base_uri": "https://localhost:8080/"
        },
        "id": "6cbkS6hfmIWU",
        "outputId": "1e5288eb-356a-40cd-c2fa-c2240225fc25"
      },
      "execution_count": 104,
      "outputs": [
        {
          "output_type": "stream",
          "name": "stdout",
          "text": [
            "Epoch 1/10\n",
            "469/469 [==============================] - 3s 5ms/step - loss: 1.2236 - accuracy: 0.9281\n",
            "Epoch 2/10\n",
            "469/469 [==============================] - 2s 4ms/step - loss: 0.0977 - accuracy: 0.9748\n",
            "Epoch 3/10\n",
            "469/469 [==============================] - 2s 4ms/step - loss: 0.0677 - accuracy: 0.9811\n",
            "Epoch 4/10\n",
            "469/469 [==============================] - 2s 4ms/step - loss: 0.0617 - accuracy: 0.9843\n",
            "Epoch 5/10\n",
            "469/469 [==============================] - 2s 4ms/step - loss: 0.0669 - accuracy: 0.9837\n",
            "Epoch 6/10\n",
            "469/469 [==============================] - 2s 4ms/step - loss: 0.0812 - accuracy: 0.9825\n",
            "Epoch 7/10\n",
            "469/469 [==============================] - 2s 4ms/step - loss: 0.1269 - accuracy: 0.9779\n",
            "Epoch 8/10\n",
            "469/469 [==============================] - 3s 5ms/step - loss: 0.1159 - accuracy: 0.9796\n",
            "Epoch 9/10\n",
            "469/469 [==============================] - 3s 7ms/step - loss: 0.1641 - accuracy: 0.9771\n",
            "Epoch 10/10\n",
            "469/469 [==============================] - 2s 4ms/step - loss: 0.1291 - accuracy: 0.9811\n"
          ]
        }
      ]
    },
    {
      "cell_type": "code",
      "source": [
        "test_error_rate = model.evaluate(x_test, y_test, verbose=0)\n",
        "print(\" mean squared error (MSE) for the test data set is: {}\".format(test_error_rate))"
      ],
      "metadata": {
        "colab": {
          "base_uri": "https://localhost:8080/"
        },
        "id": "7zjBatt_muuV",
        "outputId": "06e14cbc-a33f-4e41-d4b2-b2921c04a89c"
      },
      "execution_count": 105,
      "outputs": [
        {
          "output_type": "stream",
          "name": "stdout",
          "text": [
            " mean squared error (MSE) for the test data set is: [0.1680215448141098, 0.9782000184059143]\n"
          ]
        }
      ]
    },
    {
      "cell_type": "code",
      "source": [
        "model.save(\"bien-chung-lenet.h5\")"
      ],
      "metadata": {
        "id": "CYrj8jM8oKu4"
      },
      "execution_count": 112,
      "outputs": []
    },
    {
      "cell_type": "code",
      "source": [
        "model.save(\"trained_model.h5\")"
      ],
      "metadata": {
        "id": "3v4I6J2Jm16K"
      },
      "execution_count": 106,
      "outputs": []
    },
    {
      "cell_type": "code",
      "source": [
        "plt.plot(history.history['loss'])\n",
        "plt.xlabel(\"Epochs\")\n",
        "plt.ylabel(\"Loss\")"
      ],
      "metadata": {
        "colab": {
          "base_uri": "https://localhost:8080/",
          "height": 296
        },
        "id": "E5Y2LT6am-uV",
        "outputId": "02cb656c-0de7-4343-cb41-ac15a796a682"
      },
      "execution_count": 108,
      "outputs": [
        {
          "output_type": "execute_result",
          "data": {
            "text/plain": [
              "Text(0, 0.5, 'Loss')"
            ]
          },
          "metadata": {},
          "execution_count": 108
        },
        {
          "output_type": "display_data",
          "data": {
            "text/plain": [
              "<Figure size 432x288 with 1 Axes>"
            ],
            "image/png": "[encoded data removed]"
          },
          "metadata": {
            "needs_background": "light"
          }
        }
      ]
    },
    {
      "cell_type": "code",
      "source": [
        "plt.plot(history.history['accuracy'])\n",
        "plt.xlabel(\"Epochs\")\n",
        "plt.ylabel(\"Accuracy\")"
      ],
      "metadata": {
        "colab": {
          "base_uri": "https://localhost:8080/",
          "height": 296
        },
        "id": "DKV1zByOm4sj",
        "outputId": "8bdab863-c3bb-452d-d653-b1b09d321995"
      },
      "execution_count": 107,
      "outputs": [
        {
          "output_type": "execute_result",
          "data": {
            "text/plain": [
              "Text(0, 0.5, 'Accuracy')"
            ]
          },
          "metadata": {},
          "execution_count": 107
        },
        {
          "output_type": "display_data",
          "data": {
            "text/plain": [
              "<Figure size 432x288 with 1 Axes>"
            ],
            "image/png": "[encoded data removed]"
          },
          "metadata": {
            "needs_background": "light"
          }
        }
      ]
    },
    {
      "cell_type": "code",
      "source": [
        "cnn = LeNetCNN()\n",
        "cnn.build((28, 28, 1))\n",
        "cnn.summary()\n",
        "cnn.train(x_train_norm, y_train_oh, x_test_norm, y_test_oh)"
      ],
      "metadata": {
        "colab": {
          "base_uri": "https://localhost:8080/"
        },
        "id": "ISXBIvGIne8l",
        "outputId": "e9c6b09d-6a49-4bf5-d614-f3c9aa567a50"
      },
      "execution_count": 110,
      "outputs": [
        {
          "output_type": "stream",
          "name": "stdout",
          "text": [
            "Model: \"model_8\"\n",
            "_________________________________________________________________\n",
            " Layer (type)                Output Shape              Param #   \n",
            "=================================================================\n",
            " input_9 (InputLayer)        [(None, 28, 28, 1)]       0         \n",
            "                                                                 \n",
            " conv2d_38 (Conv2D)          (None, 28, 28, 6)         60        \n",
            "                                                                 \n",
            " max_pooling2d_18 (MaxPoolin  (None, 14, 14, 6)        0         \n",
            " g2D)                                                            \n",
            "                                                                 \n",
            " conv2d_39 (Conv2D)          (None, 14, 14, 16)        880       \n",
            "                                                                 \n",
            " max_pooling2d_19 (MaxPoolin  (None, 7, 7, 16)         0         \n",
            " g2D)                                                            \n",
            "                                                                 \n",
            " flatten_11 (Flatten)        (None, 784)               0         \n",
            "                                                                 \n",
            " dense_26 (Dense)            (None, 120)               94200     \n",
            "                                                                 \n",
            " dense_27 (Dense)            (None, 84)                10164     \n",
            "                                                                 \n",
            " dense_28 (Dense)            (None, 10)                850       \n",
            "                                                                 \n",
            "=================================================================\n",
            "Total params: 106,154\n",
            "Trainable params: 106,154\n",
            "Non-trainable params: 0\n",
            "_________________________________________________________________\n",
            "Epoch 1/50\n",
            "469/469 [==============================] - 2s 4ms/step - loss: 1.4553 - accuracy: 0.5247 - val_loss: 0.4563 - val_accuracy: 0.8652\n",
            "Epoch 2/50\n",
            "469/469 [==============================] - 2s 4ms/step - loss: 0.3476 - accuracy: 0.8940 - val_loss: 0.2601 - val_accuracy: 0.9229\n",
            "Epoch 3/50\n",
            "469/469 [==============================] - 2s 4ms/step - loss: 0.2435 - accuracy: 0.9273 - val_loss: 0.2114 - val_accuracy: 0.9357\n",
            "Epoch 4/50\n",
            "469/469 [==============================] - 2s 4ms/step - loss: 0.1911 - accuracy: 0.9427 - val_loss: 0.1598 - val_accuracy: 0.9526\n",
            "Epoch 5/50\n",
            "469/469 [==============================] - 2s 4ms/step - loss: 0.1583 - accuracy: 0.9524 - val_loss: 0.1380 - val_accuracy: 0.9571\n",
            "Epoch 6/50\n",
            "469/469 [==============================] - 2s 4ms/step - loss: 0.1360 - accuracy: 0.9587 - val_loss: 0.1115 - val_accuracy: 0.9663\n",
            "Epoch 7/50\n",
            "469/469 [==============================] - 2s 4ms/step - loss: 0.1201 - accuracy: 0.9635 - val_loss: 0.1051 - val_accuracy: 0.9667\n",
            "Epoch 8/50\n",
            "469/469 [==============================] - 2s 5ms/step - loss: 0.1084 - accuracy: 0.9672 - val_loss: 0.0968 - val_accuracy: 0.9696\n",
            "Epoch 9/50\n",
            "469/469 [==============================] - 2s 5ms/step - loss: 0.0979 - accuracy: 0.9708 - val_loss: 0.1124 - val_accuracy: 0.9623\n",
            "Epoch 10/50\n",
            "469/469 [==============================] - 2s 4ms/step - loss: 0.0907 - accuracy: 0.9721 - val_loss: 0.0791 - val_accuracy: 0.9739\n",
            "Epoch 11/50\n",
            "469/469 [==============================] - 2s 4ms/step - loss: 0.0847 - accuracy: 0.9740 - val_loss: 0.0804 - val_accuracy: 0.9738\n",
            "Epoch 12/50\n",
            "469/469 [==============================] - 2s 5ms/step - loss: 0.0791 - accuracy: 0.9760 - val_loss: 0.0749 - val_accuracy: 0.9757\n",
            "Epoch 13/50\n",
            "469/469 [==============================] - 2s 5ms/step - loss: 0.0756 - accuracy: 0.9778 - val_loss: 0.0782 - val_accuracy: 0.9755\n",
            "Epoch 14/50\n",
            "469/469 [==============================] - 2s 4ms/step - loss: 0.0708 - accuracy: 0.9793 - val_loss: 0.0679 - val_accuracy: 0.9775\n",
            "Epoch 15/50\n",
            "469/469 [==============================] - 2s 4ms/step - loss: 0.0678 - accuracy: 0.9792 - val_loss: 0.0755 - val_accuracy: 0.9761\n",
            "Epoch 16/50\n",
            "469/469 [==============================] - 2s 4ms/step - loss: 0.0647 - accuracy: 0.9802 - val_loss: 0.0610 - val_accuracy: 0.9795\n",
            "Epoch 17/50\n",
            "469/469 [==============================] - 2s 4ms/step - loss: 0.0615 - accuracy: 0.9813 - val_loss: 0.0646 - val_accuracy: 0.9789\n",
            "Epoch 18/50\n",
            "469/469 [==============================] - 2s 4ms/step - loss: 0.0596 - accuracy: 0.9820 - val_loss: 0.0641 - val_accuracy: 0.9785\n",
            "Epoch 19/50\n",
            "469/469 [==============================] - 2s 4ms/step - loss: 0.0573 - accuracy: 0.9826 - val_loss: 0.0560 - val_accuracy: 0.9821\n",
            "Epoch 20/50\n",
            "469/469 [==============================] - 2s 4ms/step - loss: 0.0547 - accuracy: 0.9833 - val_loss: 0.0698 - val_accuracy: 0.9754\n",
            "Epoch 21/50\n",
            "469/469 [==============================] - 3s 6ms/step - loss: 0.0534 - accuracy: 0.9837 - val_loss: 0.0565 - val_accuracy: 0.9816\n",
            "Epoch 22/50\n",
            "469/469 [==============================] - 2s 5ms/step - loss: 0.0511 - accuracy: 0.9844 - val_loss: 0.0515 - val_accuracy: 0.9832\n",
            "Epoch 23/50\n",
            "469/469 [==============================] - 2s 4ms/step - loss: 0.0504 - accuracy: 0.9843 - val_loss: 0.0578 - val_accuracy: 0.9824\n",
            "Epoch 24/50\n",
            "469/469 [==============================] - 2s 4ms/step - loss: 0.0478 - accuracy: 0.9853 - val_loss: 0.0570 - val_accuracy: 0.9810\n",
            "Epoch 25/50\n",
            "469/469 [==============================] - 3s 5ms/step - loss: 0.0469 - accuracy: 0.9855 - val_loss: 0.0807 - val_accuracy: 0.9747\n",
            "Epoch 26/50\n",
            "469/469 [==============================] - 3s 6ms/step - loss: 0.0449 - accuracy: 0.9862 - val_loss: 0.0486 - val_accuracy: 0.9845\n",
            "Epoch 27/50\n",
            "469/469 [==============================] - 3s 7ms/step - loss: 0.0437 - accuracy: 0.9872 - val_loss: 0.0521 - val_accuracy: 0.9832\n",
            "Epoch 28/50\n",
            "469/469 [==============================] - 3s 5ms/step - loss: 0.0416 - accuracy: 0.9876 - val_loss: 0.0535 - val_accuracy: 0.9823\n",
            "Epoch 29/50\n",
            "469/469 [==============================] - 2s 4ms/step - loss: 0.0414 - accuracy: 0.9876 - val_loss: 0.0524 - val_accuracy: 0.9841\n",
            "Epoch 30/50\n",
            "469/469 [==============================] - 2s 4ms/step - loss: 0.0402 - accuracy: 0.9880 - val_loss: 0.0908 - val_accuracy: 0.9705\n",
            "Epoch 31/50\n",
            "469/469 [==============================] - 2s 4ms/step - loss: 0.0387 - accuracy: 0.9882 - val_loss: 0.0478 - val_accuracy: 0.9859\n",
            "Epoch 32/50\n",
            "469/469 [==============================] - 2s 4ms/step - loss: 0.0378 - accuracy: 0.9886 - val_loss: 0.0560 - val_accuracy: 0.9821\n",
            "Epoch 33/50\n",
            "469/469 [==============================] - 2s 4ms/step - loss: 0.0371 - accuracy: 0.9886 - val_loss: 0.0561 - val_accuracy: 0.9813\n",
            "Epoch 34/50\n",
            "469/469 [==============================] - 2s 4ms/step - loss: 0.0363 - accuracy: 0.9892 - val_loss: 0.0473 - val_accuracy: 0.9847\n",
            "Epoch 35/50\n",
            "469/469 [==============================] - 2s 4ms/step - loss: 0.0354 - accuracy: 0.9889 - val_loss: 0.0561 - val_accuracy: 0.9815\n",
            "Epoch 36/50\n",
            "469/469 [==============================] - 2s 4ms/step - loss: 0.0346 - accuracy: 0.9893 - val_loss: 0.0529 - val_accuracy: 0.9822\n",
            "Epoch 37/50\n",
            "469/469 [==============================] - 2s 4ms/step - loss: 0.0335 - accuracy: 0.9898 - val_loss: 0.0456 - val_accuracy: 0.9855\n",
            "Epoch 38/50\n",
            "469/469 [==============================] - 2s 4ms/step - loss: 0.0328 - accuracy: 0.9898 - val_loss: 0.0458 - val_accuracy: 0.9851\n",
            "Epoch 39/50\n",
            "469/469 [==============================] - 2s 4ms/step - loss: 0.0316 - accuracy: 0.9905 - val_loss: 0.0520 - val_accuracy: 0.9833\n",
            "Epoch 40/50\n",
            "469/469 [==============================] - 2s 4ms/step - loss: 0.0314 - accuracy: 0.9903 - val_loss: 0.0585 - val_accuracy: 0.9809\n",
            "Epoch 41/50\n",
            "469/469 [==============================] - 2s 4ms/step - loss: 0.0303 - accuracy: 0.9906 - val_loss: 0.0436 - val_accuracy: 0.9860\n",
            "Epoch 42/50\n",
            "469/469 [==============================] - 2s 4ms/step - loss: 0.0301 - accuracy: 0.9905 - val_loss: 0.0411 - val_accuracy: 0.9875\n",
            "Epoch 43/50\n",
            "469/469 [==============================] - 2s 5ms/step - loss: 0.0296 - accuracy: 0.9906 - val_loss: 0.0451 - val_accuracy: 0.9858\n",
            "Epoch 44/50\n",
            "469/469 [==============================] - 2s 4ms/step - loss: 0.0281 - accuracy: 0.9913 - val_loss: 0.0545 - val_accuracy: 0.9823\n",
            "Epoch 45/50\n",
            "469/469 [==============================] - 2s 4ms/step - loss: 0.0275 - accuracy: 0.9914 - val_loss: 0.0504 - val_accuracy: 0.9842\n",
            "Epoch 46/50\n",
            "469/469 [==============================] - 3s 5ms/step - loss: 0.0271 - accuracy: 0.9916 - val_loss: 0.0448 - val_accuracy: 0.9856\n",
            "Epoch 47/50\n",
            "469/469 [==============================] - 2s 4ms/step - loss: 0.0262 - accuracy: 0.9921 - val_loss: 0.0433 - val_accuracy: 0.9870\n",
            "Epoch 48/50\n",
            "469/469 [==============================] - 2s 4ms/step - loss: 0.0251 - accuracy: 0.9925 - val_loss: 0.0448 - val_accuracy: 0.9863\n",
            "Epoch 49/50\n",
            "469/469 [==============================] - 2s 4ms/step - loss: 0.0258 - accuracy: 0.9920 - val_loss: 0.0489 - val_accuracy: 0.9846\n",
            "Epoch 50/50\n",
            "469/469 [==============================] - 2s 4ms/step - loss: 0.0244 - accuracy: 0.9924 - val_loss: 0.0435 - val_accuracy: 0.9863\n"
          ]
        }
      ]
    },
    {
      "cell_type": "markdown",
      "source": [
        "# Evaluating on new LeNet"
      ],
      "metadata": {
        "id": "0U4dKHq4nrtB"
      }
    },
    {
      "cell_type": "code",
      "source": [
        "import matplotlib.pyplot as plt"
      ],
      "metadata": {
        "id": "Gk76TdGBaUe7"
      },
      "execution_count": 70,
      "outputs": []
    },
    {
      "cell_type": "markdown",
      "source": [
        "## Evaluate on LeNet removed all activations "
      ],
      "metadata": {
        "id": "yoDZAxXzn_cC"
      }
    },
    {
      "cell_type": "code",
      "metadata": {
        "id": "NzSuLa3zy4Eq",
        "colab": {
          "base_uri": "https://localhost:8080/",
          "height": 317
        },
        "outputId": "0f6a0aa5-39c7-4473-f6a5-ffe32cb70415"
      },
      "source": [
        "new_cnn = LeNet_1st()\n",
        "\n",
        "new_cnn.load('bien-chung-lenet.h5')\n",
        "pred = new_cnn.predict(x_test_norm)\n",
        "index = 300\n",
        "plt.imshow(x_test[index])\n",
        "plt.show()\n",
        "print('Predicted label: ', np.argmax(pred[index]))\n",
        "print('Ground-truth label: ', y_test[index])"
      ],
      "execution_count": 113,
      "outputs": [
        {
          "output_type": "stream",
          "name": "stdout",
          "text": [
            "313/313 [==============================] - 1s 2ms/step\n"
          ]
        },
        {
          "output_type": "display_data",
          "data": {
            "text/plain": [
              "<Figure size 432x288 with 1 Axes>"
            ],
            "image/png": "[encoded data removed]"
          },
          "metadata": {
            "needs_background": "light"
          }
        },
        {
          "output_type": "stream",
          "name": "stdout",
          "text": [
            "Predicted label:  7\n",
            "Ground-truth label:  4\n"
          ]
        }
      ]
    },
    {
      "cell_type": "code",
      "metadata": {
        "id": "M2qtR88aw50c",
        "colab": {
          "base_uri": "https://localhost:8080/",
          "height": 317
        },
        "outputId": "5832cd69-6d1c-4c5b-e677-d93a36d71070"
      },
      "source": [
        "import matplotlib.pyplot as plt\n",
        "\n",
        "pred = cnn.predict(x_test_norm)\n",
        "test_index = 1234\n",
        "plt.imshow(x_test[test_index])\n",
        "plt.show()\n",
        "print('Predicted label: ', np.argmax(pred[test_index]))\n",
        "print('Ground-truth label: ', y_test[test_index])"
      ],
      "execution_count": 114,
      "outputs": [
        {
          "output_type": "stream",
          "name": "stdout",
          "text": [
            "313/313 [==============================] - 1s 2ms/step\n"
          ]
        },
        {
          "output_type": "display_data",
          "data": {
            "text/plain": [
              "<Figure size 432x288 with 1 Axes>"
            ],
            "image/png": "[encoded data removed]"
          },
          "metadata": {
            "needs_background": "light"
          }
        },
        {
          "output_type": "stream",
          "name": "stdout",
          "text": [
            "Predicted label:  8\n",
            "Ground-truth label:  8\n"
          ]
        }
      ]
    },
    {
      "cell_type": "code",
      "metadata": {
        "id": "QYLnuXjVUMVF",
        "colab": {
          "base_uri": "https://localhost:8080/",
          "height": 317
        },
        "outputId": "75f32fff-d6f3-4a0d-8a0d-bac0de6c1f8d"
      },
      "source": [
        "# Demo using a pretrained CNN model\n",
        "cnn = LeNetCNN()\n",
        "cnn.load('/content/bien-chung-lenet.h5')\n",
        "\n",
        "pred = cnn.predict(x_test_norm)\n",
        "plt.imshow(x_test[1000])\n",
        "plt.show()\n",
        "print('Predicted label: ', np.argmax(pred[1000]))\n",
        "print('Ground-truth label: ', y_test[1000])"
      ],
      "execution_count": 115,
      "outputs": [
        {
          "output_type": "stream",
          "name": "stdout",
          "text": [
            "313/313 [==============================] - 1s 2ms/step\n"
          ]
        },
        {
          "output_type": "display_data",
          "data": {
            "text/plain": [
              "<Figure size 432x288 with 1 Axes>"
            ],
            "image/png": "[encoded data removed]"
          },
          "metadata": {
            "needs_background": "light"
          }
        },
        {
          "output_type": "stream",
          "name": "stdout",
          "text": [
            "Predicted label:  7\n",
            "Ground-truth label:  9\n"
          ]
        }
      ]
    },
    {
      "cell_type": "code",
      "metadata": {
        "id": "jcbloAh5O2GP",
        "colab": {
          "base_uri": "https://localhost:8080/",
          "height": 282
        },
        "outputId": "38c475d8-1e11-4771-9fad-78deec222b97"
      },
      "source": [
        "import matplotlib.pyplot as plt\n",
        "\n",
        "# Visualize training data\n",
        "plt.imshow(x_train[1234])\n",
        "plt.show()\n",
        "print('Label: ', y_train_oh[1234])"
      ],
      "execution_count": 116,
      "outputs": [
        {
          "output_type": "display_data",
          "data": {
            "text/plain": [
              "<Figure size 432x288 with 1 Axes>"
            ],
            "image/png": "[encoded data removed]"
          },
          "metadata": {
            "needs_background": "light"
          }
        },
        {
          "output_type": "stream",
          "name": "stdout",
          "text": [
            "Label:  [0. 0. 0. 1. 0. 0. 0. 0. 0. 0.]\n"
          ]
        }
      ]
    },
    {
      "cell_type": "code",
      "metadata": {
        "id": "sdJM40mjQiz5",
        "colab": {
          "base_uri": "https://localhost:8080/"
        },
        "outputId": "9020e2c0-717a-48f7-e934-a66b25c5cdd1"
      },
      "source": [
        "# Demo training a CNN model from scratch\n",
        "cnn = LeNet_1st()\n",
        "cnn.build((28, 28, 1))\n",
        "cnn.train(x_train_norm, y_train_oh, x_test_norm, y_test_oh)\n",
        "cnn.save('trained_model.h5')"
      ],
      "execution_count": 117,
      "outputs": [
        {
          "output_type": "stream",
          "name": "stdout",
          "text": [
            "Epoch 1/50\n",
            "469/469 [==============================] - 3s 6ms/step - loss: 0.4207 - accuracy: 0.8771 - val_loss: 0.1876 - val_accuracy: 0.9421\n",
            "Epoch 2/50\n",
            "469/469 [==============================] - 3s 5ms/step - loss: 0.1669 - accuracy: 0.9501 - val_loss: 0.1419 - val_accuracy: 0.9546\n",
            "Epoch 3/50\n",
            "469/469 [==============================] - 2s 5ms/step - loss: 0.1358 - accuracy: 0.9585 - val_loss: 0.1065 - val_accuracy: 0.9664\n",
            "Epoch 4/50\n",
            "469/469 [==============================] - 2s 5ms/step - loss: 0.1173 - accuracy: 0.9643 - val_loss: 0.1030 - val_accuracy: 0.9679\n",
            "Epoch 5/50\n",
            "469/469 [==============================] - 3s 6ms/step - loss: 0.1071 - accuracy: 0.9669 - val_loss: 0.0922 - val_accuracy: 0.9703\n",
            "Epoch 6/50\n",
            "469/469 [==============================] - 3s 6ms/step - loss: 0.1011 - accuracy: 0.9684 - val_loss: 0.0913 - val_accuracy: 0.9713\n",
            "Epoch 7/50\n",
            "469/469 [==============================] - 2s 5ms/step - loss: 0.0923 - accuracy: 0.9720 - val_loss: 0.1018 - val_accuracy: 0.9682\n",
            "Epoch 8/50\n",
            "469/469 [==============================] - 2s 5ms/step - loss: 0.0906 - accuracy: 0.9720 - val_loss: 0.0926 - val_accuracy: 0.9707\n",
            "Epoch 9/50\n",
            "469/469 [==============================] - 2s 5ms/step - loss: 0.0868 - accuracy: 0.9744 - val_loss: 0.0839 - val_accuracy: 0.9741\n",
            "Epoch 10/50\n",
            "469/469 [==============================] - 3s 5ms/step - loss: 0.0833 - accuracy: 0.9752 - val_loss: 0.0799 - val_accuracy: 0.9747\n",
            "Epoch 11/50\n",
            "469/469 [==============================] - 2s 5ms/step - loss: 0.0798 - accuracy: 0.9748 - val_loss: 0.0793 - val_accuracy: 0.9759\n",
            "Epoch 12/50\n",
            "469/469 [==============================] - 2s 5ms/step - loss: 0.0781 - accuracy: 0.9760 - val_loss: 0.0752 - val_accuracy: 0.9765\n",
            "Epoch 13/50\n",
            "469/469 [==============================] - 3s 6ms/step - loss: 0.0768 - accuracy: 0.9766 - val_loss: 0.0949 - val_accuracy: 0.9712\n",
            "Epoch 14/50\n",
            "469/469 [==============================] - 3s 6ms/step - loss: 0.0763 - accuracy: 0.9769 - val_loss: 0.0725 - val_accuracy: 0.9756\n",
            "Epoch 15/50\n",
            "469/469 [==============================] - 2s 5ms/step - loss: 0.0733 - accuracy: 0.9767 - val_loss: 0.0756 - val_accuracy: 0.9755\n",
            "Epoch 16/50\n",
            "469/469 [==============================] - 3s 5ms/step - loss: 0.0721 - accuracy: 0.9779 - val_loss: 0.0723 - val_accuracy: 0.9783\n",
            "Epoch 17/50\n",
            "469/469 [==============================] - 2s 5ms/step - loss: 0.0726 - accuracy: 0.9768 - val_loss: 0.0710 - val_accuracy: 0.9775\n",
            "Epoch 18/50\n",
            "469/469 [==============================] - 2s 5ms/step - loss: 0.0695 - accuracy: 0.9787 - val_loss: 0.0725 - val_accuracy: 0.9764\n",
            "Epoch 19/50\n",
            "469/469 [==============================] - 2s 5ms/step - loss: 0.0702 - accuracy: 0.9789 - val_loss: 0.0682 - val_accuracy: 0.9800\n",
            "Epoch 20/50\n",
            "469/469 [==============================] - 2s 5ms/step - loss: 0.0676 - accuracy: 0.9787 - val_loss: 0.0843 - val_accuracy: 0.9731\n",
            "Epoch 21/50\n",
            "469/469 [==============================] - 2s 5ms/step - loss: 0.0678 - accuracy: 0.9782 - val_loss: 0.0681 - val_accuracy: 0.9801\n",
            "Epoch 22/50\n",
            "469/469 [==============================] - 2s 5ms/step - loss: 0.0671 - accuracy: 0.9786 - val_loss: 0.0698 - val_accuracy: 0.9783\n",
            "Epoch 23/50\n",
            "469/469 [==============================] - 2s 5ms/step - loss: 0.0663 - accuracy: 0.9793 - val_loss: 0.0768 - val_accuracy: 0.9768\n",
            "Epoch 24/50\n",
            "469/469 [==============================] - 2s 5ms/step - loss: 0.0644 - accuracy: 0.9801 - val_loss: 0.0721 - val_accuracy: 0.9775\n",
            "Epoch 25/50\n",
            "469/469 [==============================] - 2s 5ms/step - loss: 0.0657 - accuracy: 0.9794 - val_loss: 0.0760 - val_accuracy: 0.9756\n",
            "Epoch 26/50\n",
            "469/469 [==============================] - 2s 5ms/step - loss: 0.0640 - accuracy: 0.9802 - val_loss: 0.0678 - val_accuracy: 0.9797\n",
            "Epoch 27/50\n",
            "469/469 [==============================] - 2s 5ms/step - loss: 0.0621 - accuracy: 0.9808 - val_loss: 0.0729 - val_accuracy: 0.9773\n",
            "Epoch 28/50\n",
            "469/469 [==============================] - 2s 5ms/step - loss: 0.0607 - accuracy: 0.9807 - val_loss: 0.0751 - val_accuracy: 0.9780\n",
            "Epoch 29/50\n",
            "469/469 [==============================] - 4s 9ms/step - loss: 0.0614 - accuracy: 0.9805 - val_loss: 0.0632 - val_accuracy: 0.9814\n",
            "Epoch 30/50\n",
            "469/469 [==============================] - 3s 6ms/step - loss: 0.0612 - accuracy: 0.9807 - val_loss: 0.0734 - val_accuracy: 0.9776\n",
            "Epoch 31/50\n",
            "469/469 [==============================] - 2s 5ms/step - loss: 0.0608 - accuracy: 0.9804 - val_loss: 0.0811 - val_accuracy: 0.9752\n",
            "Epoch 32/50\n",
            "469/469 [==============================] - 2s 5ms/step - loss: 0.0595 - accuracy: 0.9809 - val_loss: 0.0830 - val_accuracy: 0.9748\n",
            "Epoch 33/50\n",
            "469/469 [==============================] - 2s 5ms/step - loss: 0.0580 - accuracy: 0.9815 - val_loss: 0.0787 - val_accuracy: 0.9778\n",
            "Epoch 34/50\n",
            "469/469 [==============================] - 2s 5ms/step - loss: 0.0581 - accuracy: 0.9818 - val_loss: 0.0874 - val_accuracy: 0.9728\n",
            "Epoch 35/50\n",
            "469/469 [==============================] - 2s 5ms/step - loss: 0.0581 - accuracy: 0.9820 - val_loss: 0.0676 - val_accuracy: 0.9790\n",
            "Epoch 36/50\n",
            "469/469 [==============================] - 2s 5ms/step - loss: 0.0571 - accuracy: 0.9818 - val_loss: 0.0741 - val_accuracy: 0.9765\n",
            "Epoch 37/50\n",
            "469/469 [==============================] - 2s 5ms/step - loss: 0.0564 - accuracy: 0.9822 - val_loss: 0.0703 - val_accuracy: 0.9778\n",
            "Epoch 38/50\n",
            "469/469 [==============================] - 2s 5ms/step - loss: 0.0548 - accuracy: 0.9830 - val_loss: 0.0678 - val_accuracy: 0.9797\n",
            "Epoch 39/50\n",
            "469/469 [==============================] - 2s 5ms/step - loss: 0.0565 - accuracy: 0.9822 - val_loss: 0.0857 - val_accuracy: 0.9745\n",
            "Epoch 40/50\n",
            "469/469 [==============================] - 2s 5ms/step - loss: 0.0552 - accuracy: 0.9824 - val_loss: 0.0696 - val_accuracy: 0.9803\n",
            "Epoch 41/50\n",
            "469/469 [==============================] - 2s 5ms/step - loss: 0.0552 - accuracy: 0.9825 - val_loss: 0.0800 - val_accuracy: 0.9761\n",
            "Epoch 42/50\n",
            "469/469 [==============================] - 2s 5ms/step - loss: 0.0541 - accuracy: 0.9826 - val_loss: 0.0812 - val_accuracy: 0.9750\n",
            "Epoch 43/50\n",
            "469/469 [==============================] - 3s 7ms/step - loss: 0.0530 - accuracy: 0.9833 - val_loss: 0.0816 - val_accuracy: 0.9772\n",
            "Epoch 44/50\n",
            "469/469 [==============================] - 2s 5ms/step - loss: 0.0561 - accuracy: 0.9823 - val_loss: 0.0718 - val_accuracy: 0.9783\n",
            "Epoch 45/50\n",
            "469/469 [==============================] - 3s 6ms/step - loss: 0.0526 - accuracy: 0.9828 - val_loss: 0.0762 - val_accuracy: 0.9774\n",
            "Epoch 46/50\n",
            "469/469 [==============================] - 3s 5ms/step - loss: 0.0524 - accuracy: 0.9834 - val_loss: 0.0811 - val_accuracy: 0.9766\n",
            "Epoch 47/50\n",
            "469/469 [==============================] - 3s 5ms/step - loss: 0.0519 - accuracy: 0.9834 - val_loss: 0.0800 - val_accuracy: 0.9767\n",
            "Epoch 48/50\n",
            "469/469 [==============================] - 3s 6ms/step - loss: 0.0523 - accuracy: 0.9832 - val_loss: 0.0798 - val_accuracy: 0.9753\n",
            "Epoch 49/50\n",
            "469/469 [==============================] - 3s 7ms/step - loss: 0.0522 - accuracy: 0.9830 - val_loss: 0.0816 - val_accuracy: 0.9770\n",
            "Epoch 50/50\n",
            "469/469 [==============================] - 4s 9ms/step - loss: 0.0518 - accuracy: 0.9834 - val_loss: 0.0736 - val_accuracy: 0.9780\n"
          ]
        }
      ]
    },
    {
      "cell_type": "code",
      "metadata": {
        "id": "MsV99FYkTA9V",
        "colab": {
          "base_uri": "https://localhost:8080/"
        },
        "outputId": "03eae5cd-c2d1-468e-94aa-e53198244638"
      },
      "source": [
        "pred_label = cnn.predict(x_test_norm)"
      ],
      "execution_count": 75,
      "outputs": [
        {
          "output_type": "stream",
          "name": "stdout",
          "text": [
            "313/313 [==============================] - 1s 2ms/step\n"
          ]
        }
      ]
    },
    {
      "cell_type": "code",
      "metadata": {
        "id": "1jFSA6hUTxaV",
        "colab": {
          "base_uri": "https://localhost:8080/",
          "height": 300
        },
        "outputId": "0b3f52e6-f3d6-4ca0-ab2a-04cf7e853104"
      },
      "source": [
        "plt.imshow(x_test[123])\n",
        "plt.show()\n",
        "print('Predicted label: ', np.argmax(pred_label[123]))\n",
        "print('Ground truth label: ', y_test[123])"
      ],
      "execution_count": 76,
      "outputs": [
        {
          "output_type": "display_data",
          "data": {
            "text/plain": [
              "<Figure size 432x288 with 1 Axes>"
            ],
            "image/png": "[encoded data removed]"
          },
          "metadata": {
            "needs_background": "light"
          }
        },
        {
          "output_type": "stream",
          "name": "stdout",
          "text": [
            "Predicted label:  6\n",
            "Ground truth label:  6\n"
          ]
        }
      ]
    },
    {
      "cell_type": "code",
      "metadata": {
        "id": "g-IZUnc-VRk1",
        "colab": {
          "base_uri": "https://localhost:8080/"
        },
        "outputId": "defeeb48-e528-4092-e325-685bbfb5e164"
      },
      "source": [
        "from keras.datasets import cifar10\n",
        "\n",
        "cifar10.load_data()"
      ],
      "execution_count": 78,
      "outputs": [
        {
          "output_type": "execute_result",
          "data": {
            "text/plain": [
              "((array([[[[ 59,  62,  63],\n",
              "           [ 43,  46,  45],\n",
              "           [ 50,  48,  43],\n",
              "           ...,\n",
              "           [158, 132, 108],\n",
              "           [152, 125, 102],\n",
              "           [148, 124, 103]],\n",
              "  \n",
              "          [[ 16,  20,  20],\n",
              "           [  0,   0,   0],\n",
              "           [ 18,   8,   0],\n",
              "           ...,\n",
              "           [123,  88,  55],\n",
              "           [119,  83,  50],\n",
              "           [122,  87,  57]],\n",
              "  \n",
              "          [[ 25,  24,  21],\n",
              "           [ 16,   7,   0],\n",
              "           [ 49,  27,   8],\n",
              "           ...,\n",
              "           [118,  84,  50],\n",
              "           [120,  84,  50],\n",
              "           [109,  73,  42]],\n",
              "  \n",
              "          ...,\n",
              "  \n",
              "          [[208, 170,  96],\n",
              "           [201, 153,  34],\n",
              "           [198, 161,  26],\n",
              "           ...,\n",
              "           [160, 133,  70],\n",
              "           [ 56,  31,   7],\n",
              "           [ 53,  34,  20]],\n",
              "  \n",
              "          [[180, 139,  96],\n",
              "           [173, 123,  42],\n",
              "           [186, 144,  30],\n",
              "           ...,\n",
              "           [184, 148,  94],\n",
              "           [ 97,  62,  34],\n",
              "           [ 83,  53,  34]],\n",
              "  \n",
              "          [[177, 144, 116],\n",
              "           [168, 129,  94],\n",
              "           [179, 142,  87],\n",
              "           ...,\n",
              "           [216, 184, 140],\n",
              "           [151, 118,  84],\n",
              "           [123,  92,  72]]],\n",
              "  \n",
              "  \n",
              "         [[[154, 177, 187],\n",
              "           [126, 137, 136],\n",
              "           [105, 104,  95],\n",
              "           ...,\n",
              "           [ 91,  95,  71],\n",
              "           [ 87,  90,  71],\n",
              "           [ 79,  81,  70]],\n",
              "  \n",
              "          [[140, 160, 169],\n",
              "           [145, 153, 154],\n",
              "           [125, 125, 118],\n",
              "           ...,\n",
              "           [ 96,  99,  78],\n",
              "           [ 77,  80,  62],\n",
              "           [ 71,  73,  61]],\n",
              "  \n",
              "          [[140, 155, 164],\n",
              "           [139, 146, 149],\n",
              "           [115, 115, 112],\n",
              "           ...,\n",
              "           [ 79,  82,  64],\n",
              "           [ 68,  70,  55],\n",
              "           [ 67,  69,  55]],\n",
              "  \n",
              "          ...,\n",
              "  \n",
              "          [[175, 167, 166],\n",
              "           [156, 154, 160],\n",
              "           [154, 160, 170],\n",
              "           ...,\n",
              "           [ 42,  34,  36],\n",
              "           [ 61,  53,  57],\n",
              "           [ 93,  83,  91]],\n",
              "  \n",
              "          [[165, 154, 128],\n",
              "           [156, 152, 130],\n",
              "           [159, 161, 142],\n",
              "           ...,\n",
              "           [103,  93,  96],\n",
              "           [123, 114, 120],\n",
              "           [131, 121, 131]],\n",
              "  \n",
              "          [[163, 148, 120],\n",
              "           [158, 148, 122],\n",
              "           [163, 156, 133],\n",
              "           ...,\n",
              "           [143, 133, 139],\n",
              "           [143, 134, 142],\n",
              "           [143, 133, 144]]],\n",
              "  \n",
              "  \n",
              "         [[[255, 255, 255],\n",
              "           [253, 253, 253],\n",
              "           [253, 253, 253],\n",
              "           ...,\n",
              "           [253, 253, 253],\n",
              "           [253, 253, 253],\n",
              "           [253, 253, 253]],\n",
              "  \n",
              "          [[255, 255, 255],\n",
              "           [255, 255, 255],\n",
              "           [255, 255, 255],\n",
              "           ...,\n",
              "           [255, 255, 255],\n",
              "           [255, 255, 255],\n",
              "           [255, 255, 255]],\n",
              "  \n",
              "          [[255, 255, 255],\n",
              "           [254, 254, 254],\n",
              "           [254, 254, 254],\n",
              "           ...,\n",
              "           [254, 254, 254],\n",
              "           [254, 254, 254],\n",
              "           [254, 254, 254]],\n",
              "  \n",
              "          ...,\n",
              "  \n",
              "          [[113, 120, 112],\n",
              "           [111, 118, 111],\n",
              "           [105, 112, 106],\n",
              "           ...,\n",
              "           [ 72,  81,  80],\n",
              "           [ 72,  80,  79],\n",
              "           [ 72,  80,  79]],\n",
              "  \n",
              "          [[111, 118, 110],\n",
              "           [104, 111, 104],\n",
              "           [ 99, 106,  98],\n",
              "           ...,\n",
              "           [ 68,  75,  73],\n",
              "           [ 70,  76,  75],\n",
              "           [ 78,  84,  82]],\n",
              "  \n",
              "          [[106, 113, 105],\n",
              "           [ 99, 106,  98],\n",
              "           [ 95, 102,  94],\n",
              "           ...,\n",
              "           [ 78,  85,  83],\n",
              "           [ 79,  85,  83],\n",
              "           [ 80,  86,  84]]],\n",
              "  \n",
              "  \n",
              "         ...,\n",
              "  \n",
              "  \n",
              "         [[[ 35, 178, 235],\n",
              "           [ 40, 176, 239],\n",
              "           [ 42, 176, 241],\n",
              "           ...,\n",
              "           [ 99, 177, 219],\n",
              "           [ 79, 147, 197],\n",
              "           [ 89, 148, 189]],\n",
              "  \n",
              "          [[ 57, 182, 234],\n",
              "           [ 44, 184, 250],\n",
              "           [ 50, 183, 240],\n",
              "           ...,\n",
              "           [156, 182, 200],\n",
              "           [141, 177, 206],\n",
              "           [116, 149, 175]],\n",
              "  \n",
              "          [[ 98, 197, 237],\n",
              "           [ 64, 189, 252],\n",
              "           [ 69, 192, 245],\n",
              "           ...,\n",
              "           [188, 195, 206],\n",
              "           [119, 135, 147],\n",
              "           [ 61,  79,  90]],\n",
              "  \n",
              "          ...,\n",
              "  \n",
              "          [[ 73,  79,  77],\n",
              "           [ 53,  63,  68],\n",
              "           [ 54,  68,  80],\n",
              "           ...,\n",
              "           [ 17,  40,  64],\n",
              "           [ 21,  36,  51],\n",
              "           [ 33,  48,  49]],\n",
              "  \n",
              "          [[ 61,  68,  75],\n",
              "           [ 55,  70,  86],\n",
              "           [ 57,  79, 103],\n",
              "           ...,\n",
              "           [ 24,  48,  72],\n",
              "           [ 17,  35,  53],\n",
              "           [  7,  23,  32]],\n",
              "  \n",
              "          [[ 44,  56,  73],\n",
              "           [ 46,  66,  88],\n",
              "           [ 49,  77, 105],\n",
              "           ...,\n",
              "           [ 27,  52,  77],\n",
              "           [ 21,  43,  66],\n",
              "           [ 12,  31,  50]]],\n",
              "  \n",
              "  \n",
              "         [[[189, 211, 240],\n",
              "           [186, 208, 236],\n",
              "           [185, 207, 235],\n",
              "           ...,\n",
              "           [175, 195, 224],\n",
              "           [172, 194, 222],\n",
              "           [169, 194, 220]],\n",
              "  \n",
              "          [[194, 210, 239],\n",
              "           [191, 207, 236],\n",
              "           [190, 206, 235],\n",
              "           ...,\n",
              "           [173, 192, 220],\n",
              "           [171, 191, 218],\n",
              "           [167, 190, 216]],\n",
              "  \n",
              "          [[208, 219, 244],\n",
              "           [205, 216, 240],\n",
              "           [204, 215, 239],\n",
              "           ...,\n",
              "           [175, 191, 217],\n",
              "           [172, 190, 216],\n",
              "           [169, 191, 215]],\n",
              "  \n",
              "          ...,\n",
              "  \n",
              "          [[207, 199, 181],\n",
              "           [203, 195, 175],\n",
              "           [203, 196, 173],\n",
              "           ...,\n",
              "           [135, 132, 127],\n",
              "           [162, 158, 150],\n",
              "           [168, 163, 151]],\n",
              "  \n",
              "          [[198, 190, 170],\n",
              "           [189, 181, 159],\n",
              "           [180, 172, 147],\n",
              "           ...,\n",
              "           [178, 171, 160],\n",
              "           [175, 169, 156],\n",
              "           [175, 169, 154]],\n",
              "  \n",
              "          [[198, 189, 173],\n",
              "           [189, 181, 162],\n",
              "           [178, 170, 149],\n",
              "           ...,\n",
              "           [195, 184, 169],\n",
              "           [196, 189, 171],\n",
              "           [195, 190, 171]]],\n",
              "  \n",
              "  \n",
              "         [[[229, 229, 239],\n",
              "           [236, 237, 247],\n",
              "           [234, 236, 247],\n",
              "           ...,\n",
              "           [217, 219, 233],\n",
              "           [221, 223, 234],\n",
              "           [222, 223, 233]],\n",
              "  \n",
              "          [[222, 221, 229],\n",
              "           [239, 239, 249],\n",
              "           [233, 234, 246],\n",
              "           ...,\n",
              "           [223, 223, 236],\n",
              "           [227, 228, 238],\n",
              "           [210, 211, 220]],\n",
              "  \n",
              "          [[213, 206, 211],\n",
              "           [234, 232, 239],\n",
              "           [231, 233, 244],\n",
              "           ...,\n",
              "           [220, 220, 232],\n",
              "           [220, 219, 232],\n",
              "           [202, 203, 215]],\n",
              "  \n",
              "          ...,\n",
              "  \n",
              "          [[150, 143, 135],\n",
              "           [140, 135, 127],\n",
              "           [132, 127, 120],\n",
              "           ...,\n",
              "           [224, 222, 218],\n",
              "           [230, 228, 225],\n",
              "           [241, 241, 238]],\n",
              "  \n",
              "          [[137, 132, 126],\n",
              "           [130, 127, 120],\n",
              "           [125, 121, 115],\n",
              "           ...,\n",
              "           [181, 180, 178],\n",
              "           [202, 201, 198],\n",
              "           [212, 211, 207]],\n",
              "  \n",
              "          [[122, 119, 114],\n",
              "           [118, 116, 110],\n",
              "           [120, 116, 111],\n",
              "           ...,\n",
              "           [179, 177, 173],\n",
              "           [164, 164, 162],\n",
              "           [163, 163, 161]]]], dtype=uint8), array([[6],\n",
              "         [9],\n",
              "         [9],\n",
              "         ...,\n",
              "         [9],\n",
              "         [1],\n",
              "         [1]], dtype=uint8)), (array([[[[158, 112,  49],\n",
              "           [159, 111,  47],\n",
              "           [165, 116,  51],\n",
              "           ...,\n",
              "           [137,  95,  36],\n",
              "           [126,  91,  36],\n",
              "           [116,  85,  33]],\n",
              "  \n",
              "          [[152, 112,  51],\n",
              "           [151, 110,  40],\n",
              "           [159, 114,  45],\n",
              "           ...,\n",
              "           [136,  95,  31],\n",
              "           [125,  91,  32],\n",
              "           [119,  88,  34]],\n",
              "  \n",
              "          [[151, 110,  47],\n",
              "           [151, 109,  33],\n",
              "           [158, 111,  36],\n",
              "           ...,\n",
              "           [139,  98,  34],\n",
              "           [130,  95,  34],\n",
              "           [120,  89,  33]],\n",
              "  \n",
              "          ...,\n",
              "  \n",
              "          [[ 68, 124, 177],\n",
              "           [ 42, 100, 148],\n",
              "           [ 31,  88, 137],\n",
              "           ...,\n",
              "           [ 38,  97, 146],\n",
              "           [ 13,  64, 108],\n",
              "           [ 40,  85, 127]],\n",
              "  \n",
              "          [[ 61, 116, 168],\n",
              "           [ 49, 102, 148],\n",
              "           [ 35,  85, 132],\n",
              "           ...,\n",
              "           [ 26,  82, 130],\n",
              "           [ 29,  82, 126],\n",
              "           [ 20,  64, 107]],\n",
              "  \n",
              "          [[ 54, 107, 160],\n",
              "           [ 56, 105, 149],\n",
              "           [ 45,  89, 132],\n",
              "           ...,\n",
              "           [ 24,  77, 124],\n",
              "           [ 34,  84, 129],\n",
              "           [ 21,  67, 110]]],\n",
              "  \n",
              "  \n",
              "         [[[235, 235, 235],\n",
              "           [231, 231, 231],\n",
              "           [232, 232, 232],\n",
              "           ...,\n",
              "           [233, 233, 233],\n",
              "           [233, 233, 233],\n",
              "           [232, 232, 232]],\n",
              "  \n",
              "          [[238, 238, 238],\n",
              "           [235, 235, 235],\n",
              "           [235, 235, 235],\n",
              "           ...,\n",
              "           [236, 236, 236],\n",
              "           [236, 236, 236],\n",
              "           [235, 235, 235]],\n",
              "  \n",
              "          [[237, 237, 237],\n",
              "           [234, 234, 234],\n",
              "           [234, 234, 234],\n",
              "           ...,\n",
              "           [235, 235, 235],\n",
              "           [235, 235, 235],\n",
              "           [234, 234, 234]],\n",
              "  \n",
              "          ...,\n",
              "  \n",
              "          [[ 87,  99,  89],\n",
              "           [ 43,  51,  37],\n",
              "           [ 19,  23,  11],\n",
              "           ...,\n",
              "           [169, 184, 179],\n",
              "           [182, 197, 193],\n",
              "           [188, 202, 201]],\n",
              "  \n",
              "          [[ 82,  96,  82],\n",
              "           [ 46,  57,  36],\n",
              "           [ 36,  44,  22],\n",
              "           ...,\n",
              "           [174, 189, 183],\n",
              "           [185, 200, 196],\n",
              "           [187, 202, 200]],\n",
              "  \n",
              "          [[ 85, 101,  83],\n",
              "           [ 62,  75,  48],\n",
              "           [ 58,  67,  38],\n",
              "           ...,\n",
              "           [168, 183, 178],\n",
              "           [180, 195, 191],\n",
              "           [186, 200, 199]]],\n",
              "  \n",
              "  \n",
              "         [[[158, 190, 222],\n",
              "           [158, 187, 218],\n",
              "           [139, 166, 194],\n",
              "           ...,\n",
              "           [228, 231, 234],\n",
              "           [237, 239, 243],\n",
              "           [238, 241, 246]],\n",
              "  \n",
              "          [[170, 200, 229],\n",
              "           [172, 199, 226],\n",
              "           [151, 176, 201],\n",
              "           ...,\n",
              "           [232, 232, 236],\n",
              "           [246, 246, 250],\n",
              "           [246, 247, 251]],\n",
              "  \n",
              "          [[174, 201, 225],\n",
              "           [176, 200, 222],\n",
              "           [157, 179, 199],\n",
              "           ...,\n",
              "           [230, 229, 232],\n",
              "           [250, 249, 251],\n",
              "           [245, 244, 247]],\n",
              "  \n",
              "          ...,\n",
              "  \n",
              "          [[ 31,  40,  45],\n",
              "           [ 30,  39,  44],\n",
              "           [ 26,  35,  40],\n",
              "           ...,\n",
              "           [ 37,  40,  46],\n",
              "           [  9,  13,  14],\n",
              "           [  4,   7,   5]],\n",
              "  \n",
              "          [[ 23,  34,  39],\n",
              "           [ 27,  38,  43],\n",
              "           [ 25,  36,  41],\n",
              "           ...,\n",
              "           [ 19,  20,  24],\n",
              "           [  4,   6,   3],\n",
              "           [  5,   7,   3]],\n",
              "  \n",
              "          [[ 28,  41,  47],\n",
              "           [ 30,  43,  50],\n",
              "           [ 32,  45,  52],\n",
              "           ...,\n",
              "           [  5,   6,   8],\n",
              "           [  4,   5,   3],\n",
              "           [  7,   8,   7]]],\n",
              "  \n",
              "  \n",
              "         ...,\n",
              "  \n",
              "  \n",
              "         [[[ 20,  15,  12],\n",
              "           [ 19,  14,  11],\n",
              "           [ 15,  14,  11],\n",
              "           ...,\n",
              "           [ 10,   9,   7],\n",
              "           [ 12,  11,   9],\n",
              "           [ 13,  12,  10]],\n",
              "  \n",
              "          [[ 21,  16,  13],\n",
              "           [ 20,  16,  13],\n",
              "           [ 18,  17,  12],\n",
              "           ...,\n",
              "           [ 10,   9,   7],\n",
              "           [ 10,   9,   7],\n",
              "           [ 12,  11,   9]],\n",
              "  \n",
              "          [[ 21,  16,  13],\n",
              "           [ 21,  17,  12],\n",
              "           [ 20,  18,  11],\n",
              "           ...,\n",
              "           [ 12,  11,   9],\n",
              "           [ 12,  11,   9],\n",
              "           [ 13,  12,  10]],\n",
              "  \n",
              "          ...,\n",
              "  \n",
              "          [[ 33,  25,  13],\n",
              "           [ 34,  26,  15],\n",
              "           [ 34,  26,  15],\n",
              "           ...,\n",
              "           [ 28,  25,  52],\n",
              "           [ 29,  25,  58],\n",
              "           [ 23,  20,  42]],\n",
              "  \n",
              "          [[ 33,  25,  14],\n",
              "           [ 34,  26,  15],\n",
              "           [ 34,  26,  15],\n",
              "           ...,\n",
              "           [ 27,  24,  52],\n",
              "           [ 27,  24,  56],\n",
              "           [ 25,  22,  47]],\n",
              "  \n",
              "          [[ 31,  23,  12],\n",
              "           [ 32,  24,  13],\n",
              "           [ 33,  25,  14],\n",
              "           ...,\n",
              "           [ 24,  23,  50],\n",
              "           [ 26,  23,  53],\n",
              "           [ 25,  20,  47]]],\n",
              "  \n",
              "  \n",
              "         [[[ 25,  40,  12],\n",
              "           [ 15,  36,   3],\n",
              "           [ 23,  41,  18],\n",
              "           ...,\n",
              "           [ 61,  82,  78],\n",
              "           [ 92, 113, 112],\n",
              "           [ 75,  89,  92]],\n",
              "  \n",
              "          [[ 12,  25,   6],\n",
              "           [ 20,  37,   7],\n",
              "           [ 24,  36,  15],\n",
              "           ...,\n",
              "           [115, 134, 138],\n",
              "           [149, 168, 177],\n",
              "           [104, 117, 131]],\n",
              "  \n",
              "          [[ 12,  25,  11],\n",
              "           [ 15,  29,   6],\n",
              "           [ 34,  40,  24],\n",
              "           ...,\n",
              "           [154, 172, 182],\n",
              "           [157, 175, 192],\n",
              "           [116, 129, 151]],\n",
              "  \n",
              "          ...,\n",
              "  \n",
              "          [[100, 129,  81],\n",
              "           [103, 132,  84],\n",
              "           [104, 134,  86],\n",
              "           ...,\n",
              "           [ 97, 128,  84],\n",
              "           [ 98, 126,  84],\n",
              "           [ 91, 121,  79]],\n",
              "  \n",
              "          [[103, 132,  83],\n",
              "           [104, 131,  83],\n",
              "           [107, 135,  87],\n",
              "           ...,\n",
              "           [101, 132,  87],\n",
              "           [ 99, 127,  84],\n",
              "           [ 92, 121,  79]],\n",
              "  \n",
              "          [[ 95, 126,  78],\n",
              "           [ 95, 123,  76],\n",
              "           [101, 128,  81],\n",
              "           ...,\n",
              "           [ 93, 124,  80],\n",
              "           [ 95, 123,  81],\n",
              "           [ 92, 120,  80]]],\n",
              "  \n",
              "  \n",
              "         [[[ 73,  78,  75],\n",
              "           [ 98, 103, 113],\n",
              "           [ 99, 106, 114],\n",
              "           ...,\n",
              "           [135, 150, 152],\n",
              "           [135, 149, 154],\n",
              "           [203, 215, 223]],\n",
              "  \n",
              "          [[ 69,  73,  70],\n",
              "           [ 84,  89,  97],\n",
              "           [ 68,  75,  81],\n",
              "           ...,\n",
              "           [ 85,  95,  89],\n",
              "           [ 71,  82,  80],\n",
              "           [120, 133, 135]],\n",
              "  \n",
              "          [[ 69,  73,  70],\n",
              "           [ 90,  95, 100],\n",
              "           [ 62,  71,  74],\n",
              "           ...,\n",
              "           [ 74,  81,  70],\n",
              "           [ 53,  62,  54],\n",
              "           [ 62,  74,  69]],\n",
              "  \n",
              "          ...,\n",
              "  \n",
              "          [[123, 128,  96],\n",
              "           [132, 132, 102],\n",
              "           [129, 128, 100],\n",
              "           ...,\n",
              "           [108, 107,  88],\n",
              "           [ 62,  60,  55],\n",
              "           [ 27,  27,  28]],\n",
              "  \n",
              "          [[115, 121,  91],\n",
              "           [123, 124,  95],\n",
              "           [129, 126,  99],\n",
              "           ...,\n",
              "           [115, 116,  94],\n",
              "           [ 66,  65,  59],\n",
              "           [ 27,  27,  27]],\n",
              "  \n",
              "          [[116, 120,  90],\n",
              "           [121, 122,  94],\n",
              "           [129, 128, 101],\n",
              "           ...,\n",
              "           [116, 115,  94],\n",
              "           [ 68,  65,  58],\n",
              "           [ 27,  26,  26]]]], dtype=uint8), array([[3],\n",
              "         [8],\n",
              "         [8],\n",
              "         ...,\n",
              "         [5],\n",
              "         [1],\n",
              "         [7]], dtype=uint8)))"
            ]
          },
          "metadata": {},
          "execution_count": 78
        }
      ]
    }
  ]
}